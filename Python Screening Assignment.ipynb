{
 "cells": [
  {
   "cell_type": "markdown",
   "id": "f780bbf0",
   "metadata": {},
   "source": [
    "# Python Screening Assignment"
   ]
  },
  {
   "cell_type": "markdown",
   "id": "49b23b0d",
   "metadata": {},
   "source": [
    "## 1. Create a function in python to read the text file and replace specific content of the file."
   ]
  },
  {
   "cell_type": "code",
   "execution_count": 58,
   "id": "7e303755",
   "metadata": {},
   "outputs": [],
   "source": [
    "def replace_content(filename, original_content, replaced_content):\n",
    "    '''filename = name of the file,\n",
    "    original_content = The original string in the file that needed to be replaced,\n",
    "    replaced_content = The string to be replaced with '''\n",
    "    try:\n",
    "        with open(filename, 'r') as file:\n",
    "            data = file.read()  #reads the data in the file \n",
    "            \n",
    "            if not original_content in data:  #Checks whether the string to be replced exists in the file or not\n",
    "                return(\"The original string is not found\") \n",
    "            else:\n",
    "                data = data.replace(original_content, replaced_content)  #replacing the original content with final content\n",
    "                \n",
    "\n",
    "        with open(filename, 'w') as file:\n",
    "                file.write(data)\n",
    "        return(\"Original content successfully replaced with final content\")\n",
    "    \n",
    "        file.close()\n",
    "        \n",
    "    except Exception as e:\n",
    "        print(e)"
   ]
  },
  {
   "cell_type": "code",
   "execution_count": null,
   "id": "7fce0c9b",
   "metadata": {},
   "outputs": [],
   "source": []
  },
  {
   "cell_type": "code",
   "execution_count": 60,
   "id": "f2f9a3e1",
   "metadata": {},
   "outputs": [
    {
     "data": {
      "text/plain": [
       "'Original content successfully replaced with final content'"
      ]
     },
     "execution_count": 60,
     "metadata": {},
     "output_type": "execute_result"
    }
   ],
   "source": [
    "replace_content('example.txt', 'placement', 'screening')"
   ]
  },
  {
   "cell_type": "code",
   "execution_count": null,
   "id": "ddc0bdd9",
   "metadata": {},
   "outputs": [],
   "source": []
  },
  {
   "cell_type": "markdown",
   "id": "58a10b74",
   "metadata": {},
   "source": [
    "## 2. Demonstrate use of abstract class, multiple inheritance and decorator in python using examples."
   ]
  },
  {
   "cell_type": "markdown",
   "id": "2e00e778",
   "metadata": {},
   "source": [
    "### Abstract class"
   ]
  },
  {
   "cell_type": "code",
   "execution_count": null,
   "id": "fc51958f",
   "metadata": {},
   "outputs": [],
   "source": [
    "# Abstract class is nothing but it will have atleast one abstract method.\n",
    "# Abstract methods are the ones which does not have a proper definition but only have a declaration.\n",
    "# It will also not allow the user to create an object of that class\n",
    "# A method becomes abstract when it is decorated with @abstractmethod."
   ]
  },
  {
   "cell_type": "code",
   "execution_count": null,
   "id": "6e597258",
   "metadata": {},
   "outputs": [],
   "source": []
  },
  {
   "cell_type": "code",
   "execution_count": 31,
   "id": "8c8975dc",
   "metadata": {},
   "outputs": [],
   "source": [
    "from abc import ABC, abstractmethod"
   ]
  },
  {
   "cell_type": "code",
   "execution_count": 39,
   "id": "ce9ab5f7",
   "metadata": {},
   "outputs": [],
   "source": [
    "class team(ABC):\n",
    "    @abstractmethod\n",
    "    def name_player(self):\n",
    "        pass\n",
    "\n",
    "class player_1(team):\n",
    "    def name_player(self):\n",
    "        print(\"satish is the name of player 1\")\n",
    "        \n",
    "class player_2(team):\n",
    "    def name_player(self):\n",
    "        print(\"kumar is the name of player 2\")"
   ]
  },
  {
   "cell_type": "code",
   "execution_count": 40,
   "id": "253d31b9",
   "metadata": {},
   "outputs": [],
   "source": [
    "player = player_1()"
   ]
  },
  {
   "cell_type": "code",
   "execution_count": 41,
   "id": "b277cf9f",
   "metadata": {},
   "outputs": [
    {
     "name": "stdout",
     "output_type": "stream",
     "text": [
      "satish is the name of player 1\n"
     ]
    }
   ],
   "source": [
    "player.name_player()"
   ]
  },
  {
   "cell_type": "code",
   "execution_count": 42,
   "id": "65aea0a3",
   "metadata": {},
   "outputs": [],
   "source": [
    "player = player_2()"
   ]
  },
  {
   "cell_type": "code",
   "execution_count": 43,
   "id": "6831160f",
   "metadata": {},
   "outputs": [
    {
     "name": "stdout",
     "output_type": "stream",
     "text": [
      "kumar is the name of player 2\n"
     ]
    }
   ],
   "source": [
    "player.name_player()"
   ]
  },
  {
   "cell_type": "code",
   "execution_count": 44,
   "id": "47b826c3",
   "metadata": {},
   "outputs": [
    {
     "ename": "TypeError",
     "evalue": "Can't instantiate abstract class team with abstract method name_player",
     "output_type": "error",
     "traceback": [
      "\u001b[1;31m---------------------------------------------------------------------------\u001b[0m",
      "\u001b[1;31mTypeError\u001b[0m                                 Traceback (most recent call last)",
      "Input \u001b[1;32mIn [44]\u001b[0m, in \u001b[0;36m<cell line: 1>\u001b[1;34m()\u001b[0m\n\u001b[1;32m----> 1\u001b[0m player \u001b[38;5;241m=\u001b[39m \u001b[43mteam\u001b[49m\u001b[43m(\u001b[49m\u001b[43m)\u001b[49m\n",
      "\u001b[1;31mTypeError\u001b[0m: Can't instantiate abstract class team with abstract method name_player"
     ]
    }
   ],
   "source": [
    "player = team()"
   ]
  },
  {
   "cell_type": "code",
   "execution_count": null,
   "id": "ae2cf47f",
   "metadata": {},
   "outputs": [],
   "source": [
    "# As we see the error in the code in the above line, it has prevented the user to create the object for team class as it is an abstract class."
   ]
  },
  {
   "cell_type": "code",
   "execution_count": null,
   "id": "8e18d7ff",
   "metadata": {},
   "outputs": [],
   "source": []
  },
  {
   "cell_type": "markdown",
   "id": "7a685952",
   "metadata": {},
   "source": [
    "### Multiple inheritance"
   ]
  },
  {
   "cell_type": "code",
   "execution_count": null,
   "id": "2ec60dd1",
   "metadata": {},
   "outputs": [],
   "source": [
    "# When a class can be derived from more than one base class, this type of inheritance is called multiple inheritance.\n",
    "# Here, all the features from the base class can be inherited into the derived class"
   ]
  },
  {
   "cell_type": "code",
   "execution_count": 27,
   "id": "d0e05577",
   "metadata": {},
   "outputs": [],
   "source": [
    "class player_1:\n",
    "    def name_player():\n",
    "        print(\"satish is the name of player 1 in the team\")\n",
    "        \n",
    "class player_2:\n",
    "    def name_player():\n",
    "        print(\"kumar is the name of player 2 in the team\")\n",
    "        \n",
    "class team(player_1, player_2):#inheriting the features of player_1,player_2 into the team class\n",
    "    def name_player():\n",
    "        print(\"satish, kumar are the names of the players in the team\")\n",
    "    "
   ]
  },
  {
   "cell_type": "code",
   "execution_count": 34,
   "id": "d4dc4f14",
   "metadata": {},
   "outputs": [
    {
     "name": "stdout",
     "output_type": "stream",
     "text": [
      "satish is the name of player 1 in the team\n",
      "kumar is the name of player 2 in the team\n",
      "satish, kumar are the names of the players in the team\n"
     ]
    }
   ],
   "source": [
    "a = player_1\n",
    "a.name_player()\n",
    "\n",
    "b = player_2\n",
    "b.name_player()\n",
    "\n",
    "c = team\n",
    "c.name_player()"
   ]
  },
  {
   "cell_type": "code",
   "execution_count": null,
   "id": "fe240f8d",
   "metadata": {},
   "outputs": [],
   "source": []
  },
  {
   "cell_type": "markdown",
   "id": "43dcc6f0",
   "metadata": {},
   "source": [
    "## Decorator"
   ]
  },
  {
   "cell_type": "code",
   "execution_count": null,
   "id": "59137f43",
   "metadata": {},
   "outputs": [],
   "source": [
    "# Decorators are the tools which are used to modify the behaviour of the function.\n",
    "# It means we can also add the extra features to the existing function.\n",
    "# Decorator is the tool where we call the function within a function, and we are also passing a function as a parameter."
   ]
  },
  {
   "cell_type": "code",
   "execution_count": 114,
   "id": "93b7474f",
   "metadata": {},
   "outputs": [],
   "source": [
    "def players_in_team(name):\n",
    "    def player_satish():\n",
    "        print('satish is the name of player 1')\n",
    "        print('satish is 24 years old')\n",
    "        name()\n",
    "    return player_satish()"
   ]
  },
  {
   "cell_type": "code",
   "execution_count": 115,
   "id": "d0e47502",
   "metadata": {},
   "outputs": [
    {
     "name": "stdout",
     "output_type": "stream",
     "text": [
      "satish is the name of player 1\n",
      "satish is 24 years old\n",
      "kumar is also a main player in the team\n",
      "kumar is 25 years old\n"
     ]
    }
   ],
   "source": [
    "@players_in_team #This is one way of calling a decorator\n",
    "def player_kumar():\n",
    "    print('kumar is also a main player in the team')\n",
    "    print('kumar is 25 years old')"
   ]
  },
  {
   "cell_type": "code",
   "execution_count": 120,
   "id": "52dda550",
   "metadata": {},
   "outputs": [],
   "source": [
    "def player_santosh():\n",
    "    print('santosh is also a main player in the team')\n",
    "    print('santosh is 26 years old')"
   ]
  },
  {
   "cell_type": "code",
   "execution_count": 121,
   "id": "4cac6411",
   "metadata": {},
   "outputs": [
    {
     "name": "stdout",
     "output_type": "stream",
     "text": [
      "satish is the name of player 1\n",
      "satish is 24 years old\n",
      "santosh is also a main player in the team\n",
      "santosh is 26 years old\n"
     ]
    }
   ],
   "source": [
    "players_in_team(player_santosh) #This is another way of calling a decorator"
   ]
  },
  {
   "cell_type": "code",
   "execution_count": null,
   "id": "826669b1",
   "metadata": {},
   "outputs": [],
   "source": []
  },
  {
   "cell_type": "code",
   "execution_count": null,
   "id": "12a6b896",
   "metadata": {},
   "outputs": [],
   "source": []
  }
 ],
 "metadata": {
  "kernelspec": {
   "display_name": "Python 3 (ipykernel)",
   "language": "python",
   "name": "python3"
  },
  "language_info": {
   "codemirror_mode": {
    "name": "ipython",
    "version": 3
   },
   "file_extension": ".py",
   "mimetype": "text/x-python",
   "name": "python",
   "nbconvert_exporter": "python",
   "pygments_lexer": "ipython3",
   "version": "3.9.12"
  }
 },
 "nbformat": 4,
 "nbformat_minor": 5
}
